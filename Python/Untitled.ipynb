{
 "cells": [
  {
   "cell_type": "code",
   "execution_count": 7,
   "metadata": {},
   "outputs": [],
   "source": [
    "import tweepy\n",
    "import json\n",
    "import pandas as pd\n",
    "from time import sleep\n",
    "import datetime\n",
    "import os\n",
    "from textblob import TextBlob\n",
    "from config import keys as k\n",
    "import networkx as nx\n",
    "class tweets():\n",
    "        def __init__(self,keys):\n",
    "            auth=tweepy.OAuthHandler(keys.consumer_keys, keys.consumer_secert)\n",
    "            auth.set_access_token(keys.access_token, keys.access_token_secret)\n",
    "            self.api=tweepy.API(auth, wait_on_rate_limit=True, wait_on_rate_limit_notify=True, retry_count=3, retry_delay=60)\n",
    " \n",
    "             \n",
    "        def search_for_tweets(self,lowid):\n",
    "            A=[]\n",
    "            if (lowid!=None):#if you dont have a previous itt,\n",
    "                twt=self.api.search(q='#trashtag',count=100,max_id=lowid)\n",
    "                for st in twt:\n",
    "                    coordinates=None\n",
    "                    A.append(st.id)\n",
    "                    if (st.coordinates):\n",
    "                        lon = st.coordinates[\"coordinates\"][0]\n",
    "                        lat = st.coordinates[\"coordinates\"][1]\n",
    "                        print(lon)\n",
    "                        print(lat)\n",
    "                        date= st.created_at\n",
    "                        print(date)\n",
    "                        print(st.entities[\"urls\"][0]['url'])\n",
    "                        username=st.user.screen_name\n",
    "                        print(username)\n",
    "                        print(10*'-')\n",
    "            else:#if you have a previous itt,\n",
    "                twt=self.api.search(q=\"#trashtag\",count=100)\n",
    "                for st in twt:\n",
    "                    coordinates=None\n",
    "                    A.append(st.id)\n",
    "                    if (st.coordinates):\n",
    "                        lon = st.coordinates[\"coordinates\"][0]\n",
    "                        lat = st.coordinates[\"coordinates\"][1]\n",
    "                        print(lon)\n",
    "                        print(lat)\n",
    "                        print(st.entities[\"urls\"])\n",
    "                        date= st.created_at\n",
    "                        print(date)\n",
    "                        username=st.user.screen_name\n",
    "                        print(username)\n",
    "                        print(10*'-')\n",
    "                        \n",
    "            return(min(A))\n",
    "\n"
   ]
  },
  {
   "cell_type": "code",
   "execution_count": 8,
   "metadata": {},
   "outputs": [],
   "source": [
    "t=tweets(k)"
   ]
  },
  {
   "cell_type": "code",
   "execution_count": null,
   "metadata": {},
   "outputs": [
    {
     "name": "stdout",
     "output_type": "stream",
     "text": [
      "-74.050357\n",
      "40.727981\n",
      "2019-04-13 19:50:43\n",
      "https://t.co/vgZWjqmAzb\n",
      "bergenarches\n",
      "----------\n",
      "-121.34788968\n",
      "38.65022553\n",
      "2019-04-13 19:33:07\n",
      "https://t.co/FgPrryDrnD\n",
      "mrjamesmaskell\n",
      "----------\n",
      "145.73560431\n",
      "15.10649355\n",
      "2019-04-13 07:19:18\n",
      "https://t.co/vGHBpUojiT\n",
      "EllaNoreaster\n",
      "----------\n",
      "-74.0103\n",
      "41.064\n",
      "2019-04-11 15:24:45\n",
      "https://t.co/8cQNtqujAa\n",
      "LindsayLaman\n",
      "----------\n",
      "110.63590073\n",
      "-7.61376518\n",
      "2019-04-10 11:05:50\n",
      "https://t.co/1AoYv2J8ay\n",
      "Amorattish\n",
      "----------\n"
     ]
    }
   ],
   "source": [
    "a=None\n",
    "for x in range(1,100):\n",
    "    a=t.search_for_tweets(a)"
   ]
  },
  {
   "cell_type": "code",
   "execution_count": null,
   "metadata": {},
   "outputs": [],
   "source": []
  },
  {
   "cell_type": "code",
   "execution_count": null,
   "metadata": {},
   "outputs": [],
   "source": []
  }
 ],
 "metadata": {
  "kernelspec": {
   "display_name": "Python 3",
   "language": "python",
   "name": "python3"
  },
  "language_info": {
   "codemirror_mode": {
    "name": "ipython",
    "version": 3
   },
   "file_extension": ".py",
   "mimetype": "text/x-python",
   "name": "python",
   "nbconvert_exporter": "python",
   "pygments_lexer": "ipython3",
   "version": "3.6.5"
  }
 },
 "nbformat": 4,
 "nbformat_minor": 2
}

{
 "cells": [
  {
   "cell_type": "code",
   "execution_count": 16,
   "metadata": {},
   "outputs": [],
   "source": [
    "import tweepy\n",
    "import json\n",
    "import pandas as pd\n",
    "from time import sleep\n",
    "import datetime\n",
    "import os\n",
    "from textblob import TextBlob\n",
    "from config import keys as k\n",
    "import networkx as nx"
   ]
  },
  {
   "cell_type": "code",
   "execution_count": 23,
   "metadata": {},
   "outputs": [],
   "source": [
    "class tweets():\n",
    "    def __init__(self,keys):\n",
    "        auth=tweepy.OAuthHandler(keys.consumer_keys, keys.consumer_secert)\n",
    "        auth.set_access_token(keys.access_token, keys.access_token_secret)\n",
    "        self.api=tweepy.API(auth, wait_on_rate_limit=True, wait_on_rate_limit_notify=True, retry_count=3, retry_delay=60)\n",
    "    \n",
    "    def search_for_tweets(self,txt):\n",
    "        twt=self.api.search(q=\"#trashtag\",count=100)\n",
    "        for st in twt:\n",
    "            print(st.id)\n",
    "            print(st.text)\n",
    "            print(st.user.screen_name)\n",
    "    \n",
    "    def save_tweet_ids(self,df):\n",
    "        currT= datatime.datetime.now()\n",
    "        df.to_csv(os.path.join(os.getcwd(),r'IDS',''.join([currT.strftime(\"%Y_%m_%d_%I_%M_%S\"),r'.csv'])),index=False)\n",
    "    #def query(self, qstr, number)\n",
    "   \n",
    "    def get_tweets(self,tobj):#The part I am working on\n",
    "        return_df=pd.DataFrame(columns=[\n",
    "       'language','coordinates',\n",
    "        'retweeted_status', 'created_at', 'month', 'year', 'content',\n",
    "         'from_user_name','from_user_id', 'from_user_followers_count',\n",
    "        'from_user_friends_count', 'from_user_listed_count',\n",
    "        'from_user_favourites_count', 'from_user_statuses_count',\n",
    "        'from_user_description', 'from_user_location', 'from_user_created_at',\n",
    "        'retweet_count', 'favorite_count', 'entities_hashtags', 'entities_hashtags_count',\n",
    "        'entities_urls','entities_urls_count'\n",
    "       ])\n",
    "        tmplst=[] \n",
    "        for tw in tobj:\n",
    "            tmplst.append({\n",
    "               'coordinates':tw.coordinates,\n",
    "            'retweeted_status':tw.retweeted, 'created_at':tw.created_at, 'month':tw.created_at.month, 'year':tw.created_at.year, 'content':tw.full_text,\n",
    "             'from_user_name':tw.user.name, 'from_user_id':tw.id, 'from_user_followers_count':tw.user.followers_count,\n",
    "             'from_user_friends_count':tw.user.friends_count, 'from_user_listed_count':tw.user.listed_count,\n",
    "             'from_user_favourites_count':tw.user.favourites_count, 'from_user_statuses_count':tw.user.statuses_count,\n",
    "             'from_user_description':tw.user.description, 'from_user_location':tw.user.location, 'from_user_created_at':tw.user.created_at,\n",
    "             'retweet_count':tw.retweet_count, 'favorite_count':tw.favorite_count, 'entities_hashtags':tw.entities.get('hashtags'),\n",
    "             'entities_urls':tw.entities.get('urls'),'entities_urls_count':len(tw.entities.get('urls'))})\n",
    "            return_df= pd.DataFrame(tmplst)\n",
    "        return return_df"
   ]
  },
  {
   "cell_type": "code",
   "execution_count": null,
   "metadata": {},
   "outputs": [],
   "source": []
  },
  {
   "cell_type": "code",
   "execution_count": 24,
   "metadata": {},
   "outputs": [],
   "source": [
    "t=tweets(k)"
   ]
  },
  {
   "cell_type": "code",
   "execution_count": 25,
   "metadata": {},
   "outputs": [
    {
     "ename": "AttributeError",
     "evalue": "'str' object has no attribute 'coordinates'",
     "output_type": "error",
     "traceback": [
      "\u001b[1;31m---------------------------------------------------------------------------\u001b[0m",
      "\u001b[1;31mAttributeError\u001b[0m                            Traceback (most recent call last)",
      "\u001b[1;32m<ipython-input-25-ae56167071b7>\u001b[0m in \u001b[0;36m<module>\u001b[1;34m()\u001b[0m\n\u001b[1;32m----> 1\u001b[1;33m \u001b[0mt\u001b[0m\u001b[1;33m.\u001b[0m\u001b[0mget_tweets\u001b[0m\u001b[1;33m(\u001b[0m\u001b[1;34m'BillGates'\u001b[0m\u001b[1;33m)\u001b[0m\u001b[1;33m\u001b[0m\u001b[0m\n\u001b[0m",
      "\u001b[1;32m<ipython-input-23-cb1214fe1dad>\u001b[0m in \u001b[0;36mget_tweets\u001b[1;34m(self, tobj)\u001b[0m\n\u001b[0;32m     31\u001b[0m         \u001b[1;32mfor\u001b[0m \u001b[0mtw\u001b[0m \u001b[1;32min\u001b[0m \u001b[0mtobj\u001b[0m\u001b[1;33m:\u001b[0m\u001b[1;33m\u001b[0m\u001b[0m\n\u001b[0;32m     32\u001b[0m             tmplst.append({\n\u001b[1;32m---> 33\u001b[1;33m                \u001b[1;34m'coordinates'\u001b[0m\u001b[1;33m:\u001b[0m\u001b[0mtw\u001b[0m\u001b[1;33m.\u001b[0m\u001b[0mcoordinates\u001b[0m\u001b[1;33m,\u001b[0m\u001b[1;33m\u001b[0m\u001b[0m\n\u001b[0m\u001b[0;32m     34\u001b[0m             \u001b[1;34m'retweeted_status'\u001b[0m\u001b[1;33m:\u001b[0m\u001b[0mtw\u001b[0m\u001b[1;33m.\u001b[0m\u001b[0mretweeted\u001b[0m\u001b[1;33m,\u001b[0m \u001b[1;34m'created_at'\u001b[0m\u001b[1;33m:\u001b[0m\u001b[0mtw\u001b[0m\u001b[1;33m.\u001b[0m\u001b[0mcreated_at\u001b[0m\u001b[1;33m,\u001b[0m \u001b[1;34m'month'\u001b[0m\u001b[1;33m:\u001b[0m\u001b[0mtw\u001b[0m\u001b[1;33m.\u001b[0m\u001b[0mcreated_at\u001b[0m\u001b[1;33m.\u001b[0m\u001b[0mmonth\u001b[0m\u001b[1;33m,\u001b[0m \u001b[1;34m'year'\u001b[0m\u001b[1;33m:\u001b[0m\u001b[0mtw\u001b[0m\u001b[1;33m.\u001b[0m\u001b[0mcreated_at\u001b[0m\u001b[1;33m.\u001b[0m\u001b[0myear\u001b[0m\u001b[1;33m,\u001b[0m \u001b[1;34m'content'\u001b[0m\u001b[1;33m:\u001b[0m\u001b[0mtw\u001b[0m\u001b[1;33m.\u001b[0m\u001b[0mfull_text\u001b[0m\u001b[1;33m,\u001b[0m\u001b[1;33m\u001b[0m\u001b[0m\n\u001b[0;32m     35\u001b[0m              \u001b[1;34m'from_user_name'\u001b[0m\u001b[1;33m:\u001b[0m\u001b[0mtw\u001b[0m\u001b[1;33m.\u001b[0m\u001b[0muser\u001b[0m\u001b[1;33m.\u001b[0m\u001b[0mname\u001b[0m\u001b[1;33m,\u001b[0m \u001b[1;34m'from_user_id'\u001b[0m\u001b[1;33m:\u001b[0m\u001b[0mtw\u001b[0m\u001b[1;33m.\u001b[0m\u001b[0mid\u001b[0m\u001b[1;33m,\u001b[0m \u001b[1;34m'from_user_followers_count'\u001b[0m\u001b[1;33m:\u001b[0m\u001b[0mtw\u001b[0m\u001b[1;33m.\u001b[0m\u001b[0muser\u001b[0m\u001b[1;33m.\u001b[0m\u001b[0mfollowers_count\u001b[0m\u001b[1;33m,\u001b[0m\u001b[1;33m\u001b[0m\u001b[0m\n",
      "\u001b[1;31mAttributeError\u001b[0m: 'str' object has no attribute 'coordinates'"
     ]
    }
   ],
   "source": [
    "t.get_tweets('BillGates')"
   ]
  },
  {
   "cell_type": "markdown",
   "metadata": {},
   "source": []
  },
  {
   "cell_type": "code",
   "execution_count": null,
   "metadata": {},
   "outputs": [],
   "source": []
  }
 ],
 "metadata": {
  "kernelspec": {
   "display_name": "Python 3",
   "language": "python",
   "name": "python3"
  },
  "language_info": {
   "codemirror_mode": {
    "name": "ipython",
    "version": 3
   },
   "file_extension": ".py",
   "mimetype": "text/x-python",
   "name": "python",
   "nbconvert_exporter": "python",
   "pygments_lexer": "ipython3",
   "version": "3.6.5"
  }
 },
 "nbformat": 4,
 "nbformat_minor": 2
}

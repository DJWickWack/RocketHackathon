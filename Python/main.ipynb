{
 "cells": [
  {
   "cell_type": "code",
   "execution_count": 16,
   "metadata": {},
   "outputs": [],
   "source": [
    "import tweepy\n",
    "import json\n",
    "import pandas as pd\n",
    "from time import sleep\n",
    "import datetime\n",
    "import os\n",
    "from textblob import TextBlob\n",
    "from config import keys as k\n",
    "import networkx as nx"
   ]
  },
  {
   "cell_type": "code",
   "execution_count": 56,
   "metadata": {},
   "outputs": [
    {
     "ename": "SyntaxError",
     "evalue": "invalid syntax (<ipython-input-56-eec200006c2d>, line 11)",
     "output_type": "error",
     "traceback": [
      "\u001b[1;36m  File \u001b[1;32m\"<ipython-input-56-eec200006c2d>\"\u001b[1;36m, line \u001b[1;32m11\u001b[0m\n\u001b[1;33m    if (st.coordinates not null):\u001b[0m\n\u001b[1;37m                              ^\u001b[0m\n\u001b[1;31mSyntaxError\u001b[0m\u001b[1;31m:\u001b[0m invalid syntax\n"
     ]
    }
   ],
   "source": [
    "class tweets():\n",
    "    def __init__(self,keys):\n",
    "        auth=tweepy.OAuthHandler(keys.consumer_keys, keys.consumer_secert)\n",
    "        auth.set_access_token(keys.access_token, keys.access_token_secret)\n",
    "        self.api=tweepy.API(auth, wait_on_rate_limit=True, wait_on_rate_limit_notify=True, retry_count=3, retry_delay=60)\n",
    "    \n",
    "    def search_for_tweets(self):\n",
    "        twt=self.api.search(q=\"#trashtag\",count=100)\n",
    "        return_df=pd.DataFrame\n",
    "        for st in twt:\n",
    "            if (st.coordinates):\n",
    "                print(st.coordinates)\n",
    "    \n",
    "    def save_tweet_ids(self,df):\n",
    "        currT= datatime.datetime.now()\n",
    "        df.to_csv(os.path.join(os.getcwd(),r'IDS',''.join([currT.strftime(\"%Y_%m_%d_%I_%M_%S\"),r'.csv'])),index=False)\n",
    "    #def query(self, qstr, number)\n",
    "   \n",
    "    def get_tweets(self,tobj):#The part I am working on\n",
    "        return_df=pd.DataFrame(columns=[\n",
    "       'language','coordinates',\n",
    "        'retweeted_status', 'created_at', 'month', 'year', 'content',\n",
    "         'from_user_name','from_user_id', 'from_user_followers_count',\n",
    "        'from_user_friends_count', 'from_user_listed_count',\n",
    "        'from_user_favourites_count', 'from_user_statuses_count',\n",
    "        'from_user_description', 'from_user_location', 'from_user_created_at',\n",
    "        'retweet_count', 'favorite_count', 'entities_hashtags', 'entities_hashtags_count',\n",
    "        'entities_urls','entities_urls_count'\n",
    "       ])\n",
    "        tmplst=[] \n",
    "        for tw in tobj:\n",
    "            tmplst.append({\n",
    "               'coordinates':tw.coordinates,\n",
    "            'retweeted_status':tw.retweeted, 'created_at':tw.created_at, 'month':tw.created_at.month, 'year':tw.created_at.year, 'content':tw.full_text,\n",
    "             'from_user_name':tw.user.name, 'from_user_id':tw.id, 'from_user_followers_count':tw.user.followers_count,\n",
    "             'from_user_friends_count':tw.user.friends_count, 'from_user_listed_count':tw.user.listed_count,\n",
    "             'from_user_favourites_count':tw.user.favourites_count, 'from_user_statuses_count':tw.user.statuses_count,\n",
    "             'from_user_description':tw.user.description, 'from_user_location':tw.user.location, 'from_user_created_at':tw.user.created_at,\n",
    "             'retweet_count':tw.retweet_count, 'favorite_count':tw.favorite_count, 'entities_hashtags':tw.entities.get('hashtags'),\n",
    "             'entities_urls':tw.entities.get('urls'),'entities_urls_count':len(tw.entities.get('urls'))})\n",
    "            return_df= pd.DataFrame(tmplst)\n",
    "        return return_df"
   ]
  },
  {
   "cell_type": "code",
   "execution_count": null,
   "metadata": {},
   "outputs": [],
   "source": []
  },
  {
   "cell_type": "code",
   "execution_count": 57,
   "metadata": {},
   "outputs": [],
   "source": [
    "t=tweets(k)"
   ]
  },
  {
   "cell_type": "code",
   "execution_count": 58,
   "metadata": {},
   "outputs": [
    {
     "name": "stdout",
     "output_type": "stream",
     "text": [
      "None\n",
      "None\n",
      "None\n",
      "None\n",
      "None\n",
      "None\n",
      "None\n",
      "None\n",
      "None\n",
      "None\n",
      "None\n",
      "None\n",
      "None\n",
      "{'type': 'Point', 'coordinates': [-74.050357, 40.727981]}\n",
      "None\n",
      "None\n",
      "None\n",
      "None\n",
      "{'type': 'Point', 'coordinates': [-121.34788968, 38.65022553]}\n",
      "None\n",
      "None\n",
      "None\n",
      "None\n",
      "None\n",
      "None\n",
      "None\n",
      "None\n",
      "None\n",
      "None\n",
      "None\n",
      "None\n",
      "None\n",
      "None\n",
      "None\n",
      "None\n",
      "None\n",
      "None\n",
      "None\n",
      "None\n",
      "None\n",
      "None\n",
      "None\n",
      "None\n",
      "None\n",
      "None\n",
      "None\n",
      "None\n",
      "None\n",
      "None\n",
      "None\n",
      "None\n",
      "None\n",
      "None\n",
      "None\n",
      "None\n",
      "None\n",
      "None\n",
      "None\n",
      "None\n",
      "None\n",
      "None\n",
      "None\n",
      "None\n",
      "None\n",
      "None\n",
      "None\n",
      "None\n",
      "None\n",
      "None\n",
      "None\n",
      "None\n",
      "None\n",
      "None\n",
      "None\n",
      "None\n",
      "None\n",
      "None\n",
      "None\n",
      "None\n",
      "None\n",
      "None\n",
      "None\n",
      "None\n",
      "None\n",
      "None\n",
      "None\n",
      "None\n",
      "None\n",
      "None\n",
      "None\n",
      "None\n",
      "None\n",
      "None\n",
      "None\n"
     ]
    }
   ],
   "source": [
    "t.search_for_tweets()"
   ]
  },
  {
   "cell_type": "markdown",
   "metadata": {},
   "source": []
  },
  {
   "cell_type": "code",
   "execution_count": null,
   "metadata": {},
   "outputs": [],
   "source": []
  }
 ],
 "metadata": {
  "kernelspec": {
   "display_name": "Python 3",
   "language": "python",
   "name": "python3"
  },
  "language_info": {
   "codemirror_mode": {
    "name": "ipython",
    "version": 3
   },
   "file_extension": ".py",
   "mimetype": "text/x-python",
   "name": "python",
   "nbconvert_exporter": "python",
   "pygments_lexer": "ipython3",
   "version": "3.6.5"
  }
 },
 "nbformat": 4,
 "nbformat_minor": 2
}

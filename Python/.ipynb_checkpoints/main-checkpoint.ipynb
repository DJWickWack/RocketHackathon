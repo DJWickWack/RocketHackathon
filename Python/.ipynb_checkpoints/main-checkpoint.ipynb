{
 "cells": [
  {
   "cell_type": "code",
   "execution_count": 13,
   "metadata": {},
   "outputs": [],
   "source": [
    "import tweepy\n",
    "import json\n",
    "import pandas as pd\n",
    "from time import sleep\n",
    "import datetime\n",
    "import os\n",
    "from config import keys as k\n",
    "import networkx as nx\n",
    "import MySQLdb"
   ]
  },
  {
   "cell_type": "code",
   "execution_count": 23,
   "metadata": {},
   "outputs": [],
   "source": [
    "class tweets():\n",
    "    def __init__(self,keys):\n",
    "        auth=tweepy.OAuthHandler(keys.consumer_keys, keys.consumer_secert)\n",
    "        auth.set_access_token(keys.access_token, keys.access_token_secret)\n",
    "        self.api=tweepy.API(auth, wait_on_rate_limit=True, wait_on_rate_limit_notify=True, retry_count=3, retry_delay=60)\n",
    "    \n",
    "    def search_for_tweets(self,lowid):\n",
    "        A=[]\n",
    "        if (lowid!=None):#if you dont have a previous itt\n",
    "            db = MySQLdb.connect(\"localhost\",\"root\",\"password\",\"testdb\" )#edit this\n",
    "            cursor = db.cursor()\n",
    "            twt=self.api.search(q=\"#trashtag\",count=100,max_id=lowid)\n",
    "            for st in twt:\n",
    "                coordinates=None\n",
    "                A.append(st.id)\n",
    "                if (st.coordinates):\n",
    "                    coordinates = st.coordinates[\"coordinates\"]\n",
    "                    print(coordinates)\n",
    "                    date= st.created_at\n",
    "                    print(date)\n",
    "                    username=st.user.screen_name\n",
    "                    print(username)\n",
    "                    print(10*'-')\n",
    "                    try:\n",
    "                        cursor.execute(\"\"\"INSERT INTO anooog1 VALUES (%s,%s)\"\"\",(188,90))#edit\n",
    "                        db.commit()\n",
    "                    except:     \n",
    "                        db.rollback()\n",
    "                    #sql here\n",
    "        else:#if you have a previous itt\n",
    "            db = MySQLdb.connect(\"localhost\",\"root\",\"password\",\"testdb\" )#edit this\n",
    "            cursor = db.cursor()\n",
    "            twt=self.api.search(q=\"#trashtag\",count=100)\n",
    "            return_df=pd.DataFrame\n",
    "            for st in twt:\n",
    "                coordinates=None\n",
    "                A.append(st.id)\n",
    "                if (st.coordinates):\n",
    "                    coordinates = st.coordinates[\"coordinates\"]\n",
    "                    print(coordinates)\n",
    "                    date= st.created_at\n",
    "                    print(date)\n",
    "                    username=st.user.screen_name\n",
    "                    print(username)\n",
    "                    print(10*'-')\n",
    "                    try:\n",
    "                        cursor.execute(\"\"\"INSERT INTO anooog1 VALUES (%s,%s)\"\"\",(188,90))#edit\n",
    "                        db.commit()\n",
    "                    except:     \n",
    "                        db.rollback()             \n",
    "                                \n",
    "        db.close()            \n",
    "        return(min(A))\n",
    "    "
   ]
  },
  {
   "cell_type": "code",
   "execution_count": 24,
   "metadata": {},
   "outputs": [],
   "source": [
    "t=tweets(k)"
   ]
  },
  {
   "cell_type": "code",
   "execution_count": 26,
   "metadata": {},
   "outputs": [
    {
     "name": "stdout",
     "output_type": "stream",
     "text": [
      "[-74.050357, 40.727981]\n",
      "2019-04-13 19:50:43\n",
      "bergenarches\n",
      "----------\n",
      "[-121.34788968, 38.65022553]\n",
      "2019-04-13 19:33:07\n",
      "mrjamesmaskell\n",
      "----------\n"
     ]
    }
   ],
   "source": [
    "a=None\n",
    "a=t.search_for_tweets(a)\n"
   ]
  },
  {
   "cell_type": "code",
   "execution_count": null,
   "metadata": {},
   "outputs": [],
   "source": []
  }
 ],
 "metadata": {
  "kernelspec": {
   "display_name": "Python 3",
   "language": "python",
   "name": "python3"
  },
  "language_info": {
   "codemirror_mode": {
    "name": "ipython",
    "version": 3
   },
   "file_extension": ".py",
   "mimetype": "text/x-python",
   "name": "python",
   "nbconvert_exporter": "python",
   "pygments_lexer": "ipython3",
   "version": "3.6.5"
  }
 },
 "nbformat": 4,
 "nbformat_minor": 2
}
